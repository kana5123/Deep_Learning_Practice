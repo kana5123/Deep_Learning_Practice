{
 "cells": [
  {
   "cell_type": "code",
   "execution_count": 3,
   "metadata": {},
   "outputs": [],
   "source": [
    "import torch.optim as optim\n",
    "import torch.nn as nn\n",
    "import torch"
   ]
  },
  {
   "cell_type": "code",
   "execution_count": 4,
   "metadata": {},
   "outputs": [
    {
     "data": {
      "text/plain": [
       "OrderedDict([('fc1.weight',\n",
       "              tensor([[ 0.1876, -0.2788, -0.4681],\n",
       "                      [ 0.0298,  0.0144, -0.1137],\n",
       "                      [ 0.1498,  0.3325,  0.2366],\n",
       "                      [ 0.0564,  0.1729,  0.2615],\n",
       "                      [-0.5598,  0.2199,  0.3525]])),\n",
       "             ('fc1.bias',\n",
       "              tensor([-0.2977, -0.0252, -0.1398,  0.1540, -0.2365])),\n",
       "             ('fc2.weight',\n",
       "              tensor([[ 0.2909, -0.3030, -0.2842,  0.3555, -0.3702],\n",
       "                      [-0.4318,  0.2615,  0.4240, -0.3208,  0.0903],\n",
       "                      [ 0.0048, -0.3245,  0.4463, -0.1933, -0.3433],\n",
       "                      [ 0.4344, -0.0594,  0.3453,  0.2221,  0.0484],\n",
       "                      [ 0.3151, -0.1254,  0.2848, -0.0801, -0.2222]])),\n",
       "             ('fc2.bias',\n",
       "              tensor([-0.2411,  0.3432, -0.3310,  0.3937,  0.1660]))])"
      ]
     },
     "execution_count": 4,
     "metadata": {},
     "output_type": "execute_result"
    }
   ],
   "source": [
    "class MyModel(nn.Module):\n",
    "    def __init__(self):\n",
    "        super().__init__()\n",
    "        # super메서드를 사용하면 부모클래스의 __init__메서드를 먼저 호출하고! 그 다음에 자식 클래스의 __init__를 진행\n",
    "        # 요거 중요하다!!\n",
    "        self.fc1 = nn.Linear(3,5)\n",
    "        self.activation = nn.ReLU()\n",
    "        self.fc2 = nn.Linear(5,5)\n",
    "        self.outputact = nn.Softmax()\n",
    "        \n",
    "\n",
    "        #init에서는 *객체*를 만드는 거야\n",
    "        #근데 무슨 객체냐? - 앞으로 너가 사용할 함수, 신경망 노드들등 모든 것에 대한 객체\n",
    "        # 소프트맥스, 렐루, 노드 갯수 등 전부 다 만들어야 돼 \n",
    "\n",
    "    def forward(self, x):\n",
    "        x = self.fc1(x)\n",
    "        x = self.activation(x)\n",
    "        x = self.fc2(x)\n",
    "        x = self.outputact(x)\n",
    "        return x\n",
    "\n",
    "model = MyModel()\n",
    "# 각 계층의 편향과 가중치를 확인할 수 있는 메서드\n",
    "model.state_dict()"
   ]
  },
  {
   "cell_type": "code",
   "execution_count": 13,
   "metadata": {},
   "outputs": [],
   "source": [
    "criterion = torch.nn.MSELoss()\n",
    "optimizer = torch.optim.SGD(model.parameters(),lr=0.01, momentum=0.9)\n",
    "scheduler = torch.optim.lr_scheduler.LambdaLR(optimizer=optimizer, lr_lambda= lambda epoch:0.95 **epoch)"
   ]
  },
  {
   "cell_type": "code",
   "execution_count": null,
   "metadata": {},
   "outputs": [
    {
     "ename": "NameError",
     "evalue": "name 'dataloader' is not defined",
     "output_type": "error",
     "traceback": [
      "\u001b[0;31m---------------------------------------------------------------------------\u001b[0m",
      "\u001b[0;31mNameError\u001b[0m                                 Traceback (most recent call last)",
      "Cell \u001b[0;32mIn[14], line 2\u001b[0m\n\u001b[1;32m      1\u001b[0m \u001b[38;5;28;01mfor\u001b[39;00m epoch \u001b[38;5;129;01min\u001b[39;00m \u001b[38;5;28mrange\u001b[39m(\u001b[38;5;241m1\u001b[39m,\u001b[38;5;241m100\u001b[39m\u001b[38;5;241m+\u001b[39m\u001b[38;5;241m1\u001b[39m):\n\u001b[0;32m----> 2\u001b[0m     \u001b[38;5;28;01mfor\u001b[39;00m x, y \u001b[38;5;129;01min\u001b[39;00m dataloader:\n\u001b[1;32m      3\u001b[0m         optimizer\u001b[38;5;241m.\u001b[39mzero_grad()\n\u001b[1;32m      4\u001b[0m         loss_fn(model(x),y)\u001b[38;5;241m.\u001b[39mbackward()\n",
      "\u001b[0;31mNameError\u001b[0m: name 'dataloader' is not defined"
     ]
    }
   ],
   "source": [
    "for epoch in range(1,100+1):\n",
    "    for x, y in dataloader:\n",
    "        optimizer.zero_grad()\n",
    "        loss_fn(model(x),y).backward()\n",
    "        optimizer.step()\n",
    "    scheduler.step()"
   ]
  },
  {
   "cell_type": "code",
   "execution_count": null,
   "metadata": {},
   "outputs": [],
   "source": []
  },
  {
   "cell_type": "code",
   "execution_count": null,
   "metadata": {},
   "outputs": [],
   "source": []
  },
  {
   "cell_type": "code",
   "execution_count": null,
   "metadata": {},
   "outputs": [],
   "source": []
  },
  {
   "cell_type": "code",
   "execution_count": null,
   "metadata": {},
   "outputs": [],
   "source": []
  },
  {
   "cell_type": "code",
   "execution_count": null,
   "metadata": {},
   "outputs": [],
   "source": []
  }
 ],
 "metadata": {
  "kernelspec": {
   "display_name": "Python 3",
   "language": "python",
   "name": "python3"
  },
  "language_info": {
   "codemirror_mode": {
    "name": "ipython",
    "version": 3
   },
   "file_extension": ".py",
   "mimetype": "text/x-python",
   "name": "python",
   "nbconvert_exporter": "python",
   "pygments_lexer": "ipython3",
   "version": "3.13.2"
  }
 },
 "nbformat": 4,
 "nbformat_minor": 2
}
